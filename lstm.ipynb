{
  "nbformat": 4,
  "nbformat_minor": 0,
  "metadata": {
    "colab": {
      "provenance": [],
      "authorship_tag": "ABX9TyPH6ox/Ur+WD5AgrDo94YAs",
      "include_colab_link": true
    },
    "kernelspec": {
      "name": "python3",
      "display_name": "Python 3"
    },
    "language_info": {
      "name": "python"
    }
  },
  "cells": [
    {
      "cell_type": "markdown",
      "metadata": {
        "id": "view-in-github",
        "colab_type": "text"
      },
      "source": [
        "<a href=\"https://colab.research.google.com/github/Spinal-Tap369/lstm_stock_price_pred/blob/main/lstm.ipynb\" target=\"_parent\"><img src=\"https://colab.research.google.com/assets/colab-badge.svg\" alt=\"Open In Colab\"/></a>"
      ]
    },
    {
      "cell_type": "markdown",
      "source": [
        "# Dependencies\n",
        "\n",
        "First thing, import dependencies!"
      ],
      "metadata": {
        "id": "LC7zbZw3Gqec"
      }
    },
    {
      "cell_type": "code",
      "source": [
        "import numpy as np\n",
        "import torch\n",
        "import pandas as pd\n",
        "from torch.utils.data import DataLoader, TensorDataset\n",
        "import torch.nn as nn\n",
        "import torch.optim as optim\n",
        "from sklearn.model_selection import train_test_split\n",
        "from sklearn.preprocessing import MinMaxScaler\n",
        "from sklearn.ensemble import RandomForestClassifier\n",
        "from sklearn.metrics import precision_score\n",
        "from sklearn.metrics import accuracy_score\n",
        "import torch.utils.data as data_utils"
      ],
      "metadata": {
        "id": "LqS3ZuCry82W"
      },
      "execution_count": null,
      "outputs": []
    },
    {
      "cell_type": "markdown",
      "source": [
        "# Data Loading\n",
        "\n",
        "The dataset is loaded from a CSV file using pandas. This dataset contains historical stock price data, including features like Open, High, Low, Close, Volume, etc."
      ],
      "metadata": {
        "id": "z2gOpjHlGyi2"
      }
    },
    {
      "cell_type": "code",
      "execution_count": null,
      "metadata": {
        "id": "B7TYX5FwQZt2",
        "colab": {
          "base_uri": "https://localhost:8080/",
          "height": 206
        },
        "outputId": "767d6665-a7b7-4510-cd21-1fde89e482ce"
      },
      "outputs": [
        {
          "output_type": "execute_result",
          "data": {
            "text/plain": [
              "         Date       Open       High        Low      Close  Adj Close  \\\n",
              "0  03-01-2000  15.422222  15.744444  15.000000  15.744444   9.526704   \n",
              "1  04-01-2000  15.866666  16.200001  15.428888  15.830000   9.578474   \n",
              "2  05-01-2000  15.916666  16.864445  14.666666  16.137777   9.764706   \n",
              "3  06-01-2000  16.466665  17.428888  16.466665  17.428888  10.545935   \n",
              "4  07-01-2000  18.497778  18.823334  18.311111  18.823334  11.389690   \n",
              "\n",
              "       Volume         VWAP  \n",
              "0  25322175.0    15.496296  \n",
              "1  32068665.0  15.81962967  \n",
              "2  62196705.0  15.88962933  \n",
              "3  32472810.0    17.108147  \n",
              "4  10404405.0    18.652593  "
            ],
            "text/html": [
              "\n",
              "  <div id=\"df-8b57f7b0-6241-4592-adff-9bb15f768f63\" class=\"colab-df-container\">\n",
              "    <div>\n",
              "<style scoped>\n",
              "    .dataframe tbody tr th:only-of-type {\n",
              "        vertical-align: middle;\n",
              "    }\n",
              "\n",
              "    .dataframe tbody tr th {\n",
              "        vertical-align: top;\n",
              "    }\n",
              "\n",
              "    .dataframe thead th {\n",
              "        text-align: right;\n",
              "    }\n",
              "</style>\n",
              "<table border=\"1\" class=\"dataframe\">\n",
              "  <thead>\n",
              "    <tr style=\"text-align: right;\">\n",
              "      <th></th>\n",
              "      <th>Date</th>\n",
              "      <th>Open</th>\n",
              "      <th>High</th>\n",
              "      <th>Low</th>\n",
              "      <th>Close</th>\n",
              "      <th>Adj Close</th>\n",
              "      <th>Volume</th>\n",
              "      <th>VWAP</th>\n",
              "    </tr>\n",
              "  </thead>\n",
              "  <tbody>\n",
              "    <tr>\n",
              "      <th>0</th>\n",
              "      <td>03-01-2000</td>\n",
              "      <td>15.422222</td>\n",
              "      <td>15.744444</td>\n",
              "      <td>15.000000</td>\n",
              "      <td>15.744444</td>\n",
              "      <td>9.526704</td>\n",
              "      <td>25322175.0</td>\n",
              "      <td>15.496296</td>\n",
              "    </tr>\n",
              "    <tr>\n",
              "      <th>1</th>\n",
              "      <td>04-01-2000</td>\n",
              "      <td>15.866666</td>\n",
              "      <td>16.200001</td>\n",
              "      <td>15.428888</td>\n",
              "      <td>15.830000</td>\n",
              "      <td>9.578474</td>\n",
              "      <td>32068665.0</td>\n",
              "      <td>15.81962967</td>\n",
              "    </tr>\n",
              "    <tr>\n",
              "      <th>2</th>\n",
              "      <td>05-01-2000</td>\n",
              "      <td>15.916666</td>\n",
              "      <td>16.864445</td>\n",
              "      <td>14.666666</td>\n",
              "      <td>16.137777</td>\n",
              "      <td>9.764706</td>\n",
              "      <td>62196705.0</td>\n",
              "      <td>15.88962933</td>\n",
              "    </tr>\n",
              "    <tr>\n",
              "      <th>3</th>\n",
              "      <td>06-01-2000</td>\n",
              "      <td>16.466665</td>\n",
              "      <td>17.428888</td>\n",
              "      <td>16.466665</td>\n",
              "      <td>17.428888</td>\n",
              "      <td>10.545935</td>\n",
              "      <td>32472810.0</td>\n",
              "      <td>17.108147</td>\n",
              "    </tr>\n",
              "    <tr>\n",
              "      <th>4</th>\n",
              "      <td>07-01-2000</td>\n",
              "      <td>18.497778</td>\n",
              "      <td>18.823334</td>\n",
              "      <td>18.311111</td>\n",
              "      <td>18.823334</td>\n",
              "      <td>11.389690</td>\n",
              "      <td>10404405.0</td>\n",
              "      <td>18.652593</td>\n",
              "    </tr>\n",
              "  </tbody>\n",
              "</table>\n",
              "</div>\n",
              "    <div class=\"colab-df-buttons\">\n",
              "\n",
              "  <div class=\"colab-df-container\">\n",
              "    <button class=\"colab-df-convert\" onclick=\"convertToInteractive('df-8b57f7b0-6241-4592-adff-9bb15f768f63')\"\n",
              "            title=\"Convert this dataframe to an interactive table.\"\n",
              "            style=\"display:none;\">\n",
              "\n",
              "  <svg xmlns=\"http://www.w3.org/2000/svg\" height=\"24px\" viewBox=\"0 -960 960 960\">\n",
              "    <path d=\"M120-120v-720h720v720H120Zm60-500h600v-160H180v160Zm220 220h160v-160H400v160Zm0 220h160v-160H400v160ZM180-400h160v-160H180v160Zm440 0h160v-160H620v160ZM180-180h160v-160H180v160Zm440 0h160v-160H620v160Z\"/>\n",
              "  </svg>\n",
              "    </button>\n",
              "\n",
              "  <style>\n",
              "    .colab-df-container {\n",
              "      display:flex;\n",
              "      gap: 12px;\n",
              "    }\n",
              "\n",
              "    .colab-df-convert {\n",
              "      background-color: #E8F0FE;\n",
              "      border: none;\n",
              "      border-radius: 50%;\n",
              "      cursor: pointer;\n",
              "      display: none;\n",
              "      fill: #1967D2;\n",
              "      height: 32px;\n",
              "      padding: 0 0 0 0;\n",
              "      width: 32px;\n",
              "    }\n",
              "\n",
              "    .colab-df-convert:hover {\n",
              "      background-color: #E2EBFA;\n",
              "      box-shadow: 0px 1px 2px rgba(60, 64, 67, 0.3), 0px 1px 3px 1px rgba(60, 64, 67, 0.15);\n",
              "      fill: #174EA6;\n",
              "    }\n",
              "\n",
              "    .colab-df-buttons div {\n",
              "      margin-bottom: 4px;\n",
              "    }\n",
              "\n",
              "    [theme=dark] .colab-df-convert {\n",
              "      background-color: #3B4455;\n",
              "      fill: #D2E3FC;\n",
              "    }\n",
              "\n",
              "    [theme=dark] .colab-df-convert:hover {\n",
              "      background-color: #434B5C;\n",
              "      box-shadow: 0px 1px 3px 1px rgba(0, 0, 0, 0.15);\n",
              "      filter: drop-shadow(0px 1px 2px rgba(0, 0, 0, 0.3));\n",
              "      fill: #FFFFFF;\n",
              "    }\n",
              "  </style>\n",
              "\n",
              "    <script>\n",
              "      const buttonEl =\n",
              "        document.querySelector('#df-8b57f7b0-6241-4592-adff-9bb15f768f63 button.colab-df-convert');\n",
              "      buttonEl.style.display =\n",
              "        google.colab.kernel.accessAllowed ? 'block' : 'none';\n",
              "\n",
              "      async function convertToInteractive(key) {\n",
              "        const element = document.querySelector('#df-8b57f7b0-6241-4592-adff-9bb15f768f63');\n",
              "        const dataTable =\n",
              "          await google.colab.kernel.invokeFunction('convertToInteractive',\n",
              "                                                    [key], {});\n",
              "        if (!dataTable) return;\n",
              "\n",
              "        const docLinkHtml = 'Like what you see? Visit the ' +\n",
              "          '<a target=\"_blank\" href=https://colab.research.google.com/notebooks/data_table.ipynb>data table notebook</a>'\n",
              "          + ' to learn more about interactive tables.';\n",
              "        element.innerHTML = '';\n",
              "        dataTable['output_type'] = 'display_data';\n",
              "        await google.colab.output.renderOutput(dataTable, element);\n",
              "        const docLink = document.createElement('div');\n",
              "        docLink.innerHTML = docLinkHtml;\n",
              "        element.appendChild(docLink);\n",
              "      }\n",
              "    </script>\n",
              "  </div>\n",
              "\n",
              "\n",
              "<div id=\"df-f9b8ccad-9ba4-4bc5-be48-7d75e5821464\">\n",
              "  <button class=\"colab-df-quickchart\" onclick=\"quickchart('df-f9b8ccad-9ba4-4bc5-be48-7d75e5821464')\"\n",
              "            title=\"Suggest charts\"\n",
              "            style=\"display:none;\">\n",
              "\n",
              "<svg xmlns=\"http://www.w3.org/2000/svg\" height=\"24px\"viewBox=\"0 0 24 24\"\n",
              "     width=\"24px\">\n",
              "    <g>\n",
              "        <path d=\"M19 3H5c-1.1 0-2 .9-2 2v14c0 1.1.9 2 2 2h14c1.1 0 2-.9 2-2V5c0-1.1-.9-2-2-2zM9 17H7v-7h2v7zm4 0h-2V7h2v10zm4 0h-2v-4h2v4z\"/>\n",
              "    </g>\n",
              "</svg>\n",
              "  </button>\n",
              "\n",
              "<style>\n",
              "  .colab-df-quickchart {\n",
              "      --bg-color: #E8F0FE;\n",
              "      --fill-color: #1967D2;\n",
              "      --hover-bg-color: #E2EBFA;\n",
              "      --hover-fill-color: #174EA6;\n",
              "      --disabled-fill-color: #AAA;\n",
              "      --disabled-bg-color: #DDD;\n",
              "  }\n",
              "\n",
              "  [theme=dark] .colab-df-quickchart {\n",
              "      --bg-color: #3B4455;\n",
              "      --fill-color: #D2E3FC;\n",
              "      --hover-bg-color: #434B5C;\n",
              "      --hover-fill-color: #FFFFFF;\n",
              "      --disabled-bg-color: #3B4455;\n",
              "      --disabled-fill-color: #666;\n",
              "  }\n",
              "\n",
              "  .colab-df-quickchart {\n",
              "    background-color: var(--bg-color);\n",
              "    border: none;\n",
              "    border-radius: 50%;\n",
              "    cursor: pointer;\n",
              "    display: none;\n",
              "    fill: var(--fill-color);\n",
              "    height: 32px;\n",
              "    padding: 0;\n",
              "    width: 32px;\n",
              "  }\n",
              "\n",
              "  .colab-df-quickchart:hover {\n",
              "    background-color: var(--hover-bg-color);\n",
              "    box-shadow: 0 1px 2px rgba(60, 64, 67, 0.3), 0 1px 3px 1px rgba(60, 64, 67, 0.15);\n",
              "    fill: var(--button-hover-fill-color);\n",
              "  }\n",
              "\n",
              "  .colab-df-quickchart-complete:disabled,\n",
              "  .colab-df-quickchart-complete:disabled:hover {\n",
              "    background-color: var(--disabled-bg-color);\n",
              "    fill: var(--disabled-fill-color);\n",
              "    box-shadow: none;\n",
              "  }\n",
              "\n",
              "  .colab-df-spinner {\n",
              "    border: 2px solid var(--fill-color);\n",
              "    border-color: transparent;\n",
              "    border-bottom-color: var(--fill-color);\n",
              "    animation:\n",
              "      spin 1s steps(1) infinite;\n",
              "  }\n",
              "\n",
              "  @keyframes spin {\n",
              "    0% {\n",
              "      border-color: transparent;\n",
              "      border-bottom-color: var(--fill-color);\n",
              "      border-left-color: var(--fill-color);\n",
              "    }\n",
              "    20% {\n",
              "      border-color: transparent;\n",
              "      border-left-color: var(--fill-color);\n",
              "      border-top-color: var(--fill-color);\n",
              "    }\n",
              "    30% {\n",
              "      border-color: transparent;\n",
              "      border-left-color: var(--fill-color);\n",
              "      border-top-color: var(--fill-color);\n",
              "      border-right-color: var(--fill-color);\n",
              "    }\n",
              "    40% {\n",
              "      border-color: transparent;\n",
              "      border-right-color: var(--fill-color);\n",
              "      border-top-color: var(--fill-color);\n",
              "    }\n",
              "    60% {\n",
              "      border-color: transparent;\n",
              "      border-right-color: var(--fill-color);\n",
              "    }\n",
              "    80% {\n",
              "      border-color: transparent;\n",
              "      border-right-color: var(--fill-color);\n",
              "      border-bottom-color: var(--fill-color);\n",
              "    }\n",
              "    90% {\n",
              "      border-color: transparent;\n",
              "      border-bottom-color: var(--fill-color);\n",
              "    }\n",
              "  }\n",
              "</style>\n",
              "\n",
              "  <script>\n",
              "    async function quickchart(key) {\n",
              "      const quickchartButtonEl =\n",
              "        document.querySelector('#' + key + ' button');\n",
              "      quickchartButtonEl.disabled = true;  // To prevent multiple clicks.\n",
              "      quickchartButtonEl.classList.add('colab-df-spinner');\n",
              "      try {\n",
              "        const charts = await google.colab.kernel.invokeFunction(\n",
              "            'suggestCharts', [key], {});\n",
              "      } catch (error) {\n",
              "        console.error('Error during call to suggestCharts:', error);\n",
              "      }\n",
              "      quickchartButtonEl.classList.remove('colab-df-spinner');\n",
              "      quickchartButtonEl.classList.add('colab-df-quickchart-complete');\n",
              "    }\n",
              "    (() => {\n",
              "      let quickchartButtonEl =\n",
              "        document.querySelector('#df-f9b8ccad-9ba4-4bc5-be48-7d75e5821464 button');\n",
              "      quickchartButtonEl.style.display =\n",
              "        google.colab.kernel.accessAllowed ? 'block' : 'none';\n",
              "    })();\n",
              "  </script>\n",
              "</div>\n",
              "    </div>\n",
              "  </div>\n"
            ],
            "application/vnd.google.colaboratory.intrinsic+json": {
              "type": "dataframe",
              "variable_name": "df",
              "summary": "{\n  \"name\": \"df\",\n  \"rows\": 5873,\n  \"fields\": [\n    {\n      \"column\": \"Date\",\n      \"properties\": {\n        \"dtype\": \"string\",\n        \"num_unique_values\": 5873,\n        \"samples\": [\n          \"09-06-2021\",\n          \"22-03-2017\",\n          \"06-10-2000\"\n        ],\n        \"semantic_type\": \"\",\n        \"description\": \"\"\n      }\n    },\n    {\n      \"column\": \"Open\",\n      \"properties\": {\n        \"dtype\": \"number\",\n        \"std\": 106.05095662414784,\n        \"min\": 11.126666,\n        \"max\": 454.799988,\n        \"num_unique_values\": 3754,\n        \"samples\": [\n          195.733337,\n          48.333332,\n          192.300003\n        ],\n        \"semantic_type\": \"\",\n        \"description\": \"\"\n      }\n    },\n    {\n      \"column\": \"High\",\n      \"properties\": {\n        \"dtype\": \"number\",\n        \"std\": 106.96225453450488,\n        \"min\": 11.688888,\n        \"max\": 455.899994,\n        \"num_unique_values\": 4142,\n        \"samples\": [\n          184.300003,\n          117.166664,\n          56.133331\n        ],\n        \"semantic_type\": \"\",\n        \"description\": \"\"\n      }\n    },\n    {\n      \"column\": \"Low\",\n      \"properties\": {\n        \"dtype\": \"number\",\n        \"std\": 105.04304825058061,\n        \"min\": 10.884444,\n        \"max\": 452.25,\n        \"num_unique_values\": 4234,\n        \"samples\": [\n          42.666664,\n          139.833328,\n          67.116669\n        ],\n        \"semantic_type\": \"\",\n        \"description\": \"\"\n      }\n    },\n    {\n      \"column\": \"Close\",\n      \"properties\": {\n        \"dtype\": \"number\",\n        \"std\": 105.99835519392026,\n        \"min\": 11.413333,\n        \"max\": 453.600006,\n        \"num_unique_values\": 4703,\n        \"samples\": [\n          174.050003,\n          127.833336,\n          97.150002\n        ],\n        \"semantic_type\": \"\",\n        \"description\": \"\"\n      }\n    },\n    {\n      \"column\": \"Adj Close\",\n      \"properties\": {\n        \"dtype\": \"number\",\n        \"std\": 95.85533579754883,\n        \"min\": 6.906021,\n        \"max\": 453.600006,\n        \"num_unique_values\": 5357,\n        \"samples\": [\n          234.949783,\n          33.854954,\n          9.991665\n        ],\n        \"semantic_type\": \"\",\n        \"description\": \"\"\n      }\n    },\n    {\n      \"column\": \"Volume\",\n      \"properties\": {\n        \"dtype\": \"number\",\n        \"std\": 14551205.949386636,\n        \"min\": 0.0,\n        \"max\": 205652700.0,\n        \"num_unique_values\": 5806,\n        \"samples\": [\n          9733275.0,\n          14168961.0,\n          8807338.0\n        ],\n        \"semantic_type\": \"\",\n        \"description\": \"\"\n      }\n    },\n    {\n      \"column\": \"VWAP\",\n      \"properties\": {\n        \"dtype\": \"string\",\n        \"num_unique_values\": 5639,\n        \"samples\": [\n          \"62.227777\",\n          \"69.77221933\",\n          \"222.022222\"\n        ],\n        \"semantic_type\": \"\",\n        \"description\": \"\"\n      }\n    }\n  ]\n}"
            }
          },
          "metadata": {},
          "execution_count": 2
        }
      ],
      "source": [
        "df = pd.read_csv(\"https://drive.google.com/uc?export=download&id=1dc18iHH2-nGvTeIvrvhBzkfrOb-EBJ_2\")\n",
        "df.head()"
      ]
    },
    {
      "cell_type": "markdown",
      "source": [
        "## Data Pre Processing"
      ],
      "metadata": {
        "id": "kHUyfK92-1Ex"
      }
    },
    {
      "cell_type": "markdown",
      "source": [
        "We will convert the date format and set the column as the index"
      ],
      "metadata": {
        "id": "T4O6cCr0HB7i"
      }
    },
    {
      "cell_type": "code",
      "source": [
        "df['Date'] = pd.to_datetime(df['Date'], format='%d-%m-%Y')\n",
        "df.set_index('Date', inplace=True)"
      ],
      "metadata": {
        "id": "fOxLbggP-4Xc"
      },
      "execution_count": null,
      "outputs": []
    },
    {
      "cell_type": "markdown",
      "source": [
        "Now lets calculate and append technical indicators like Moving Average (MA), Relative Strength Index (RSI), and Daily Returns."
      ],
      "metadata": {
        "id": "wZK2IYUE8SD7"
      }
    },
    {
      "cell_type": "code",
      "source": [
        "def compute_rsi(data, window):\n",
        "    delta = data.diff()\n",
        "    gain = delta.where(delta > 0, 0)\n",
        "    loss = -delta.where(delta < 0, 0)\n",
        "\n",
        "    avg_gain = gain.rolling(window=window).mean()\n",
        "    avg_loss = loss.rolling(window=window).mean()\n",
        "\n",
        "    rs = avg_gain / avg_loss\n",
        "    rsi = 100 - (100 / (1 + rs))\n",
        "\n",
        "    rsi[:window] = np.nan  # RSI is not defined for the initial window period\n",
        "\n",
        "    return rsi"
      ],
      "metadata": {
        "id": "x4scB7Rz8RhQ"
      },
      "execution_count": null,
      "outputs": []
    },
    {
      "cell_type": "code",
      "source": [
        "# Compute MA, RSI, and Daily Returns\n",
        "df['MA'] = df['Close'].rolling(window=14).mean()\n",
        "df['RSI'] = compute_rsi(df['Close'], window=14)\n",
        "df['Daily_Returns'] = df['Close'].pct_change()\n",
        "df.head()"
      ],
      "metadata": {
        "colab": {
          "base_uri": "https://localhost:8080/",
          "height": 237
        },
        "id": "LB40MSwa8Wn3",
        "outputId": "80fba7de-651c-4045-d92a-ac1198b79f62"
      },
      "execution_count": null,
      "outputs": [
        {
          "output_type": "execute_result",
          "data": {
            "text/plain": [
              "                 Open       High        Low      Close  Adj Close      Volume  \\\n",
              "Date                                                                            \n",
              "2000-01-03  15.422222  15.744444  15.000000  15.744444   9.526704  25322175.0   \n",
              "2000-01-04  15.866666  16.200001  15.428888  15.830000   9.578474  32068665.0   \n",
              "2000-01-05  15.916666  16.864445  14.666666  16.137777   9.764706  62196705.0   \n",
              "2000-01-06  16.466665  17.428888  16.466665  17.428888  10.545935  32472810.0   \n",
              "2000-01-07  18.497778  18.823334  18.311111  18.823334  11.389690  10404405.0   \n",
              "\n",
              "                   VWAP  MA  RSI  Daily_Returns  \n",
              "Date                                             \n",
              "2000-01-03    15.496296 NaN  NaN            NaN  \n",
              "2000-01-04  15.81962967 NaN  NaN       0.005434  \n",
              "2000-01-05  15.88962933 NaN  NaN       0.019443  \n",
              "2000-01-06    17.108147 NaN  NaN       0.080006  \n",
              "2000-01-07    18.652593 NaN  NaN       0.080008  "
            ],
            "text/html": [
              "\n",
              "  <div id=\"df-7b7300be-c3f7-4bc4-a6c3-6ace95619290\" class=\"colab-df-container\">\n",
              "    <div>\n",
              "<style scoped>\n",
              "    .dataframe tbody tr th:only-of-type {\n",
              "        vertical-align: middle;\n",
              "    }\n",
              "\n",
              "    .dataframe tbody tr th {\n",
              "        vertical-align: top;\n",
              "    }\n",
              "\n",
              "    .dataframe thead th {\n",
              "        text-align: right;\n",
              "    }\n",
              "</style>\n",
              "<table border=\"1\" class=\"dataframe\">\n",
              "  <thead>\n",
              "    <tr style=\"text-align: right;\">\n",
              "      <th></th>\n",
              "      <th>Open</th>\n",
              "      <th>High</th>\n",
              "      <th>Low</th>\n",
              "      <th>Close</th>\n",
              "      <th>Adj Close</th>\n",
              "      <th>Volume</th>\n",
              "      <th>VWAP</th>\n",
              "      <th>MA</th>\n",
              "      <th>RSI</th>\n",
              "      <th>Daily_Returns</th>\n",
              "    </tr>\n",
              "    <tr>\n",
              "      <th>Date</th>\n",
              "      <th></th>\n",
              "      <th></th>\n",
              "      <th></th>\n",
              "      <th></th>\n",
              "      <th></th>\n",
              "      <th></th>\n",
              "      <th></th>\n",
              "      <th></th>\n",
              "      <th></th>\n",
              "      <th></th>\n",
              "    </tr>\n",
              "  </thead>\n",
              "  <tbody>\n",
              "    <tr>\n",
              "      <th>2000-01-03</th>\n",
              "      <td>15.422222</td>\n",
              "      <td>15.744444</td>\n",
              "      <td>15.000000</td>\n",
              "      <td>15.744444</td>\n",
              "      <td>9.526704</td>\n",
              "      <td>25322175.0</td>\n",
              "      <td>15.496296</td>\n",
              "      <td>NaN</td>\n",
              "      <td>NaN</td>\n",
              "      <td>NaN</td>\n",
              "    </tr>\n",
              "    <tr>\n",
              "      <th>2000-01-04</th>\n",
              "      <td>15.866666</td>\n",
              "      <td>16.200001</td>\n",
              "      <td>15.428888</td>\n",
              "      <td>15.830000</td>\n",
              "      <td>9.578474</td>\n",
              "      <td>32068665.0</td>\n",
              "      <td>15.81962967</td>\n",
              "      <td>NaN</td>\n",
              "      <td>NaN</td>\n",
              "      <td>0.005434</td>\n",
              "    </tr>\n",
              "    <tr>\n",
              "      <th>2000-01-05</th>\n",
              "      <td>15.916666</td>\n",
              "      <td>16.864445</td>\n",
              "      <td>14.666666</td>\n",
              "      <td>16.137777</td>\n",
              "      <td>9.764706</td>\n",
              "      <td>62196705.0</td>\n",
              "      <td>15.88962933</td>\n",
              "      <td>NaN</td>\n",
              "      <td>NaN</td>\n",
              "      <td>0.019443</td>\n",
              "    </tr>\n",
              "    <tr>\n",
              "      <th>2000-01-06</th>\n",
              "      <td>16.466665</td>\n",
              "      <td>17.428888</td>\n",
              "      <td>16.466665</td>\n",
              "      <td>17.428888</td>\n",
              "      <td>10.545935</td>\n",
              "      <td>32472810.0</td>\n",
              "      <td>17.108147</td>\n",
              "      <td>NaN</td>\n",
              "      <td>NaN</td>\n",
              "      <td>0.080006</td>\n",
              "    </tr>\n",
              "    <tr>\n",
              "      <th>2000-01-07</th>\n",
              "      <td>18.497778</td>\n",
              "      <td>18.823334</td>\n",
              "      <td>18.311111</td>\n",
              "      <td>18.823334</td>\n",
              "      <td>11.389690</td>\n",
              "      <td>10404405.0</td>\n",
              "      <td>18.652593</td>\n",
              "      <td>NaN</td>\n",
              "      <td>NaN</td>\n",
              "      <td>0.080008</td>\n",
              "    </tr>\n",
              "  </tbody>\n",
              "</table>\n",
              "</div>\n",
              "    <div class=\"colab-df-buttons\">\n",
              "\n",
              "  <div class=\"colab-df-container\">\n",
              "    <button class=\"colab-df-convert\" onclick=\"convertToInteractive('df-7b7300be-c3f7-4bc4-a6c3-6ace95619290')\"\n",
              "            title=\"Convert this dataframe to an interactive table.\"\n",
              "            style=\"display:none;\">\n",
              "\n",
              "  <svg xmlns=\"http://www.w3.org/2000/svg\" height=\"24px\" viewBox=\"0 -960 960 960\">\n",
              "    <path d=\"M120-120v-720h720v720H120Zm60-500h600v-160H180v160Zm220 220h160v-160H400v160Zm0 220h160v-160H400v160ZM180-400h160v-160H180v160Zm440 0h160v-160H620v160ZM180-180h160v-160H180v160Zm440 0h160v-160H620v160Z\"/>\n",
              "  </svg>\n",
              "    </button>\n",
              "\n",
              "  <style>\n",
              "    .colab-df-container {\n",
              "      display:flex;\n",
              "      gap: 12px;\n",
              "    }\n",
              "\n",
              "    .colab-df-convert {\n",
              "      background-color: #E8F0FE;\n",
              "      border: none;\n",
              "      border-radius: 50%;\n",
              "      cursor: pointer;\n",
              "      display: none;\n",
              "      fill: #1967D2;\n",
              "      height: 32px;\n",
              "      padding: 0 0 0 0;\n",
              "      width: 32px;\n",
              "    }\n",
              "\n",
              "    .colab-df-convert:hover {\n",
              "      background-color: #E2EBFA;\n",
              "      box-shadow: 0px 1px 2px rgba(60, 64, 67, 0.3), 0px 1px 3px 1px rgba(60, 64, 67, 0.15);\n",
              "      fill: #174EA6;\n",
              "    }\n",
              "\n",
              "    .colab-df-buttons div {\n",
              "      margin-bottom: 4px;\n",
              "    }\n",
              "\n",
              "    [theme=dark] .colab-df-convert {\n",
              "      background-color: #3B4455;\n",
              "      fill: #D2E3FC;\n",
              "    }\n",
              "\n",
              "    [theme=dark] .colab-df-convert:hover {\n",
              "      background-color: #434B5C;\n",
              "      box-shadow: 0px 1px 3px 1px rgba(0, 0, 0, 0.15);\n",
              "      filter: drop-shadow(0px 1px 2px rgba(0, 0, 0, 0.3));\n",
              "      fill: #FFFFFF;\n",
              "    }\n",
              "  </style>\n",
              "\n",
              "    <script>\n",
              "      const buttonEl =\n",
              "        document.querySelector('#df-7b7300be-c3f7-4bc4-a6c3-6ace95619290 button.colab-df-convert');\n",
              "      buttonEl.style.display =\n",
              "        google.colab.kernel.accessAllowed ? 'block' : 'none';\n",
              "\n",
              "      async function convertToInteractive(key) {\n",
              "        const element = document.querySelector('#df-7b7300be-c3f7-4bc4-a6c3-6ace95619290');\n",
              "        const dataTable =\n",
              "          await google.colab.kernel.invokeFunction('convertToInteractive',\n",
              "                                                    [key], {});\n",
              "        if (!dataTable) return;\n",
              "\n",
              "        const docLinkHtml = 'Like what you see? Visit the ' +\n",
              "          '<a target=\"_blank\" href=https://colab.research.google.com/notebooks/data_table.ipynb>data table notebook</a>'\n",
              "          + ' to learn more about interactive tables.';\n",
              "        element.innerHTML = '';\n",
              "        dataTable['output_type'] = 'display_data';\n",
              "        await google.colab.output.renderOutput(dataTable, element);\n",
              "        const docLink = document.createElement('div');\n",
              "        docLink.innerHTML = docLinkHtml;\n",
              "        element.appendChild(docLink);\n",
              "      }\n",
              "    </script>\n",
              "  </div>\n",
              "\n",
              "\n",
              "<div id=\"df-bdd538e5-b889-4ee2-9928-8a720ee48391\">\n",
              "  <button class=\"colab-df-quickchart\" onclick=\"quickchart('df-bdd538e5-b889-4ee2-9928-8a720ee48391')\"\n",
              "            title=\"Suggest charts\"\n",
              "            style=\"display:none;\">\n",
              "\n",
              "<svg xmlns=\"http://www.w3.org/2000/svg\" height=\"24px\"viewBox=\"0 0 24 24\"\n",
              "     width=\"24px\">\n",
              "    <g>\n",
              "        <path d=\"M19 3H5c-1.1 0-2 .9-2 2v14c0 1.1.9 2 2 2h14c1.1 0 2-.9 2-2V5c0-1.1-.9-2-2-2zM9 17H7v-7h2v7zm4 0h-2V7h2v10zm4 0h-2v-4h2v4z\"/>\n",
              "    </g>\n",
              "</svg>\n",
              "  </button>\n",
              "\n",
              "<style>\n",
              "  .colab-df-quickchart {\n",
              "      --bg-color: #E8F0FE;\n",
              "      --fill-color: #1967D2;\n",
              "      --hover-bg-color: #E2EBFA;\n",
              "      --hover-fill-color: #174EA6;\n",
              "      --disabled-fill-color: #AAA;\n",
              "      --disabled-bg-color: #DDD;\n",
              "  }\n",
              "\n",
              "  [theme=dark] .colab-df-quickchart {\n",
              "      --bg-color: #3B4455;\n",
              "      --fill-color: #D2E3FC;\n",
              "      --hover-bg-color: #434B5C;\n",
              "      --hover-fill-color: #FFFFFF;\n",
              "      --disabled-bg-color: #3B4455;\n",
              "      --disabled-fill-color: #666;\n",
              "  }\n",
              "\n",
              "  .colab-df-quickchart {\n",
              "    background-color: var(--bg-color);\n",
              "    border: none;\n",
              "    border-radius: 50%;\n",
              "    cursor: pointer;\n",
              "    display: none;\n",
              "    fill: var(--fill-color);\n",
              "    height: 32px;\n",
              "    padding: 0;\n",
              "    width: 32px;\n",
              "  }\n",
              "\n",
              "  .colab-df-quickchart:hover {\n",
              "    background-color: var(--hover-bg-color);\n",
              "    box-shadow: 0 1px 2px rgba(60, 64, 67, 0.3), 0 1px 3px 1px rgba(60, 64, 67, 0.15);\n",
              "    fill: var(--button-hover-fill-color);\n",
              "  }\n",
              "\n",
              "  .colab-df-quickchart-complete:disabled,\n",
              "  .colab-df-quickchart-complete:disabled:hover {\n",
              "    background-color: var(--disabled-bg-color);\n",
              "    fill: var(--disabled-fill-color);\n",
              "    box-shadow: none;\n",
              "  }\n",
              "\n",
              "  .colab-df-spinner {\n",
              "    border: 2px solid var(--fill-color);\n",
              "    border-color: transparent;\n",
              "    border-bottom-color: var(--fill-color);\n",
              "    animation:\n",
              "      spin 1s steps(1) infinite;\n",
              "  }\n",
              "\n",
              "  @keyframes spin {\n",
              "    0% {\n",
              "      border-color: transparent;\n",
              "      border-bottom-color: var(--fill-color);\n",
              "      border-left-color: var(--fill-color);\n",
              "    }\n",
              "    20% {\n",
              "      border-color: transparent;\n",
              "      border-left-color: var(--fill-color);\n",
              "      border-top-color: var(--fill-color);\n",
              "    }\n",
              "    30% {\n",
              "      border-color: transparent;\n",
              "      border-left-color: var(--fill-color);\n",
              "      border-top-color: var(--fill-color);\n",
              "      border-right-color: var(--fill-color);\n",
              "    }\n",
              "    40% {\n",
              "      border-color: transparent;\n",
              "      border-right-color: var(--fill-color);\n",
              "      border-top-color: var(--fill-color);\n",
              "    }\n",
              "    60% {\n",
              "      border-color: transparent;\n",
              "      border-right-color: var(--fill-color);\n",
              "    }\n",
              "    80% {\n",
              "      border-color: transparent;\n",
              "      border-right-color: var(--fill-color);\n",
              "      border-bottom-color: var(--fill-color);\n",
              "    }\n",
              "    90% {\n",
              "      border-color: transparent;\n",
              "      border-bottom-color: var(--fill-color);\n",
              "    }\n",
              "  }\n",
              "</style>\n",
              "\n",
              "  <script>\n",
              "    async function quickchart(key) {\n",
              "      const quickchartButtonEl =\n",
              "        document.querySelector('#' + key + ' button');\n",
              "      quickchartButtonEl.disabled = true;  // To prevent multiple clicks.\n",
              "      quickchartButtonEl.classList.add('colab-df-spinner');\n",
              "      try {\n",
              "        const charts = await google.colab.kernel.invokeFunction(\n",
              "            'suggestCharts', [key], {});\n",
              "      } catch (error) {\n",
              "        console.error('Error during call to suggestCharts:', error);\n",
              "      }\n",
              "      quickchartButtonEl.classList.remove('colab-df-spinner');\n",
              "      quickchartButtonEl.classList.add('colab-df-quickchart-complete');\n",
              "    }\n",
              "    (() => {\n",
              "      let quickchartButtonEl =\n",
              "        document.querySelector('#df-bdd538e5-b889-4ee2-9928-8a720ee48391 button');\n",
              "      quickchartButtonEl.style.display =\n",
              "        google.colab.kernel.accessAllowed ? 'block' : 'none';\n",
              "    })();\n",
              "  </script>\n",
              "</div>\n",
              "    </div>\n",
              "  </div>\n"
            ],
            "application/vnd.google.colaboratory.intrinsic+json": {
              "type": "dataframe",
              "variable_name": "df",
              "summary": "{\n  \"name\": \"df\",\n  \"rows\": 5873,\n  \"fields\": [\n    {\n      \"column\": \"Date\",\n      \"properties\": {\n        \"dtype\": \"date\",\n        \"min\": \"2000-01-03 00:00:00\",\n        \"max\": \"2023-06-23 00:00:00\",\n        \"num_unique_values\": 5873,\n        \"samples\": [\n          \"2021-06-09 00:00:00\",\n          \"2017-03-22 00:00:00\",\n          \"2000-10-06 00:00:00\"\n        ],\n        \"semantic_type\": \"\",\n        \"description\": \"\"\n      }\n    },\n    {\n      \"column\": \"Open\",\n      \"properties\": {\n        \"dtype\": \"number\",\n        \"std\": 106.05095662414784,\n        \"min\": 11.126666,\n        \"max\": 454.799988,\n        \"num_unique_values\": 3754,\n        \"samples\": [\n          195.733337,\n          48.333332,\n          192.300003\n        ],\n        \"semantic_type\": \"\",\n        \"description\": \"\"\n      }\n    },\n    {\n      \"column\": \"High\",\n      \"properties\": {\n        \"dtype\": \"number\",\n        \"std\": 106.96225453450488,\n        \"min\": 11.688888,\n        \"max\": 455.899994,\n        \"num_unique_values\": 4142,\n        \"samples\": [\n          184.300003,\n          117.166664,\n          56.133331\n        ],\n        \"semantic_type\": \"\",\n        \"description\": \"\"\n      }\n    },\n    {\n      \"column\": \"Low\",\n      \"properties\": {\n        \"dtype\": \"number\",\n        \"std\": 105.04304825058061,\n        \"min\": 10.884444,\n        \"max\": 452.25,\n        \"num_unique_values\": 4234,\n        \"samples\": [\n          42.666664,\n          139.833328,\n          67.116669\n        ],\n        \"semantic_type\": \"\",\n        \"description\": \"\"\n      }\n    },\n    {\n      \"column\": \"Close\",\n      \"properties\": {\n        \"dtype\": \"number\",\n        \"std\": 105.99835519392026,\n        \"min\": 11.413333,\n        \"max\": 453.600006,\n        \"num_unique_values\": 4703,\n        \"samples\": [\n          174.050003,\n          127.833336,\n          97.150002\n        ],\n        \"semantic_type\": \"\",\n        \"description\": \"\"\n      }\n    },\n    {\n      \"column\": \"Adj Close\",\n      \"properties\": {\n        \"dtype\": \"number\",\n        \"std\": 95.85533579754883,\n        \"min\": 6.906021,\n        \"max\": 453.600006,\n        \"num_unique_values\": 5357,\n        \"samples\": [\n          234.949783,\n          33.854954,\n          9.991665\n        ],\n        \"semantic_type\": \"\",\n        \"description\": \"\"\n      }\n    },\n    {\n      \"column\": \"Volume\",\n      \"properties\": {\n        \"dtype\": \"number\",\n        \"std\": 14551205.949386636,\n        \"min\": 0.0,\n        \"max\": 205652700.0,\n        \"num_unique_values\": 5806,\n        \"samples\": [\n          9733275.0,\n          14168961.0,\n          8807338.0\n        ],\n        \"semantic_type\": \"\",\n        \"description\": \"\"\n      }\n    },\n    {\n      \"column\": \"VWAP\",\n      \"properties\": {\n        \"dtype\": \"string\",\n        \"num_unique_values\": 5639,\n        \"samples\": [\n          \"62.227777\",\n          \"69.77221933\",\n          \"222.022222\"\n        ],\n        \"semantic_type\": \"\",\n        \"description\": \"\"\n      }\n    },\n    {\n      \"column\": \"MA\",\n      \"properties\": {\n        \"dtype\": \"number\",\n        \"std\": 105.90965784706971,\n        \"min\": 12.056348714285715,\n        \"max\": 445.86071557142856,\n        \"num_unique_values\": 5690,\n        \"samples\": [\n          218.14047778571427,\n          208.55000085714283,\n          309.5142865714286\n        ],\n        \"semantic_type\": \"\",\n        \"description\": \"\"\n      }\n    },\n    {\n      \"column\": \"RSI\",\n      \"properties\": {\n        \"dtype\": \"number\",\n        \"std\": 16.220945618841036,\n        \"min\": 0.0,\n        \"max\": 95.69746315524085,\n        \"num_unique_values\": 5837,\n        \"samples\": [\n          43.556281066293714,\n          43.06705080608933,\n          70.08260481345084\n        ],\n        \"semantic_type\": \"\",\n        \"description\": \"\"\n      }\n    },\n    {\n      \"column\": \"Daily_Returns\",\n      \"properties\": {\n        \"dtype\": \"number\",\n        \"std\": 0.019020961125998256,\n        \"min\": -0.12814330428805876,\n        \"max\": 0.1116172341441024,\n        \"num_unique_values\": 5772,\n        \"samples\": [\n          -0.015416698617215951,\n          -0.011947785363180974,\n          -0.011043942626096315\n        ],\n        \"semantic_type\": \"\",\n        \"description\": \"\"\n      }\n    }\n  ]\n}"
            }
          },
          "metadata": {},
          "execution_count": 5
        }
      ]
    },
    {
      "cell_type": "markdown",
      "source": [
        "Rows containing NaN values resulting from the computation are dropped."
      ],
      "metadata": {
        "id": "FlnPnxtV9JCr"
      }
    },
    {
      "cell_type": "code",
      "source": [
        "df.dropna(inplace=True)\n",
        "df.count()"
      ],
      "metadata": {
        "id": "wG8uJK399VQU",
        "colab": {
          "base_uri": "https://localhost:8080/"
        },
        "outputId": "5105f984-a4a4-4d93-b4dd-6ec77baa5c65"
      },
      "execution_count": null,
      "outputs": [
        {
          "output_type": "execute_result",
          "data": {
            "text/plain": [
              "Open             5705\n",
              "High             5705\n",
              "Low              5705\n",
              "Close            5705\n",
              "Adj Close        5705\n",
              "Volume           5705\n",
              "VWAP             5705\n",
              "MA               5705\n",
              "RSI              5705\n",
              "Daily_Returns    5705\n",
              "dtype: int64"
            ]
          },
          "metadata": {},
          "execution_count": 6
        }
      ]
    },
    {
      "cell_type": "markdown",
      "source": [
        "Create the 'Target' column indicating if the stock price went up or down"
      ],
      "metadata": {
        "id": "VcE5R3oY94Bz"
      }
    },
    {
      "cell_type": "code",
      "source": [
        "df['Target'] = (df['Close'].shift(-1) > df['Close']).astype(int)\n",
        "df.dropna(inplace=True)\n",
        "df.head()"
      ],
      "metadata": {
        "colab": {
          "base_uri": "https://localhost:8080/",
          "height": 237
        },
        "id": "CEUScrEd96sE",
        "outputId": "92b67ae7-5747-47cf-af7d-3a4d32d1f0d8"
      },
      "execution_count": null,
      "outputs": [
        {
          "output_type": "execute_result",
          "data": {
            "text/plain": [
              "                 Open       High        Low      Close  Adj Close      Volume  \\\n",
              "Date                                                                            \n",
              "2000-01-21  17.444445  18.797777  17.444445  18.478888  11.181273  54041490.0   \n",
              "2000-01-24  18.577778  19.066666  17.388887  17.610001  10.655521  69614775.0   \n",
              "2000-01-25  17.333332  17.333332  16.201111  16.212221   9.809747  55845675.0   \n",
              "2000-01-26  16.212221  16.212221  16.212221  16.212221   9.809747         0.0   \n",
              "2000-01-27  16.688889  17.510000  15.111111  17.307777  10.472651  84060675.0   \n",
              "\n",
              "                   VWAP         MA        RSI  Daily_Returns  Target  \n",
              "Date                                                                  \n",
              "2000-01-21     18.24037  18.423095  64.546626       0.057817       0  \n",
              "2000-01-24  18.02185133  18.550238  58.740727      -0.047021       0  \n",
              "2000-01-25  16.58222133  18.555555  50.330210      -0.079374       0  \n",
              "2000-01-26    16.212221  18.468650  43.905156       0.000000       1  \n",
              "2000-01-27  16.64296267  18.360396  42.173510       0.067576       0  "
            ],
            "text/html": [
              "\n",
              "  <div id=\"df-89515b7e-901c-4b1c-b2a6-442002026a88\" class=\"colab-df-container\">\n",
              "    <div>\n",
              "<style scoped>\n",
              "    .dataframe tbody tr th:only-of-type {\n",
              "        vertical-align: middle;\n",
              "    }\n",
              "\n",
              "    .dataframe tbody tr th {\n",
              "        vertical-align: top;\n",
              "    }\n",
              "\n",
              "    .dataframe thead th {\n",
              "        text-align: right;\n",
              "    }\n",
              "</style>\n",
              "<table border=\"1\" class=\"dataframe\">\n",
              "  <thead>\n",
              "    <tr style=\"text-align: right;\">\n",
              "      <th></th>\n",
              "      <th>Open</th>\n",
              "      <th>High</th>\n",
              "      <th>Low</th>\n",
              "      <th>Close</th>\n",
              "      <th>Adj Close</th>\n",
              "      <th>Volume</th>\n",
              "      <th>VWAP</th>\n",
              "      <th>MA</th>\n",
              "      <th>RSI</th>\n",
              "      <th>Daily_Returns</th>\n",
              "      <th>Target</th>\n",
              "    </tr>\n",
              "    <tr>\n",
              "      <th>Date</th>\n",
              "      <th></th>\n",
              "      <th></th>\n",
              "      <th></th>\n",
              "      <th></th>\n",
              "      <th></th>\n",
              "      <th></th>\n",
              "      <th></th>\n",
              "      <th></th>\n",
              "      <th></th>\n",
              "      <th></th>\n",
              "      <th></th>\n",
              "    </tr>\n",
              "  </thead>\n",
              "  <tbody>\n",
              "    <tr>\n",
              "      <th>2000-01-21</th>\n",
              "      <td>17.444445</td>\n",
              "      <td>18.797777</td>\n",
              "      <td>17.444445</td>\n",
              "      <td>18.478888</td>\n",
              "      <td>11.181273</td>\n",
              "      <td>54041490.0</td>\n",
              "      <td>18.24037</td>\n",
              "      <td>18.423095</td>\n",
              "      <td>64.546626</td>\n",
              "      <td>0.057817</td>\n",
              "      <td>0</td>\n",
              "    </tr>\n",
              "    <tr>\n",
              "      <th>2000-01-24</th>\n",
              "      <td>18.577778</td>\n",
              "      <td>19.066666</td>\n",
              "      <td>17.388887</td>\n",
              "      <td>17.610001</td>\n",
              "      <td>10.655521</td>\n",
              "      <td>69614775.0</td>\n",
              "      <td>18.02185133</td>\n",
              "      <td>18.550238</td>\n",
              "      <td>58.740727</td>\n",
              "      <td>-0.047021</td>\n",
              "      <td>0</td>\n",
              "    </tr>\n",
              "    <tr>\n",
              "      <th>2000-01-25</th>\n",
              "      <td>17.333332</td>\n",
              "      <td>17.333332</td>\n",
              "      <td>16.201111</td>\n",
              "      <td>16.212221</td>\n",
              "      <td>9.809747</td>\n",
              "      <td>55845675.0</td>\n",
              "      <td>16.58222133</td>\n",
              "      <td>18.555555</td>\n",
              "      <td>50.330210</td>\n",
              "      <td>-0.079374</td>\n",
              "      <td>0</td>\n",
              "    </tr>\n",
              "    <tr>\n",
              "      <th>2000-01-26</th>\n",
              "      <td>16.212221</td>\n",
              "      <td>16.212221</td>\n",
              "      <td>16.212221</td>\n",
              "      <td>16.212221</td>\n",
              "      <td>9.809747</td>\n",
              "      <td>0.0</td>\n",
              "      <td>16.212221</td>\n",
              "      <td>18.468650</td>\n",
              "      <td>43.905156</td>\n",
              "      <td>0.000000</td>\n",
              "      <td>1</td>\n",
              "    </tr>\n",
              "    <tr>\n",
              "      <th>2000-01-27</th>\n",
              "      <td>16.688889</td>\n",
              "      <td>17.510000</td>\n",
              "      <td>15.111111</td>\n",
              "      <td>17.307777</td>\n",
              "      <td>10.472651</td>\n",
              "      <td>84060675.0</td>\n",
              "      <td>16.64296267</td>\n",
              "      <td>18.360396</td>\n",
              "      <td>42.173510</td>\n",
              "      <td>0.067576</td>\n",
              "      <td>0</td>\n",
              "    </tr>\n",
              "  </tbody>\n",
              "</table>\n",
              "</div>\n",
              "    <div class=\"colab-df-buttons\">\n",
              "\n",
              "  <div class=\"colab-df-container\">\n",
              "    <button class=\"colab-df-convert\" onclick=\"convertToInteractive('df-89515b7e-901c-4b1c-b2a6-442002026a88')\"\n",
              "            title=\"Convert this dataframe to an interactive table.\"\n",
              "            style=\"display:none;\">\n",
              "\n",
              "  <svg xmlns=\"http://www.w3.org/2000/svg\" height=\"24px\" viewBox=\"0 -960 960 960\">\n",
              "    <path d=\"M120-120v-720h720v720H120Zm60-500h600v-160H180v160Zm220 220h160v-160H400v160Zm0 220h160v-160H400v160ZM180-400h160v-160H180v160Zm440 0h160v-160H620v160ZM180-180h160v-160H180v160Zm440 0h160v-160H620v160Z\"/>\n",
              "  </svg>\n",
              "    </button>\n",
              "\n",
              "  <style>\n",
              "    .colab-df-container {\n",
              "      display:flex;\n",
              "      gap: 12px;\n",
              "    }\n",
              "\n",
              "    .colab-df-convert {\n",
              "      background-color: #E8F0FE;\n",
              "      border: none;\n",
              "      border-radius: 50%;\n",
              "      cursor: pointer;\n",
              "      display: none;\n",
              "      fill: #1967D2;\n",
              "      height: 32px;\n",
              "      padding: 0 0 0 0;\n",
              "      width: 32px;\n",
              "    }\n",
              "\n",
              "    .colab-df-convert:hover {\n",
              "      background-color: #E2EBFA;\n",
              "      box-shadow: 0px 1px 2px rgba(60, 64, 67, 0.3), 0px 1px 3px 1px rgba(60, 64, 67, 0.15);\n",
              "      fill: #174EA6;\n",
              "    }\n",
              "\n",
              "    .colab-df-buttons div {\n",
              "      margin-bottom: 4px;\n",
              "    }\n",
              "\n",
              "    [theme=dark] .colab-df-convert {\n",
              "      background-color: #3B4455;\n",
              "      fill: #D2E3FC;\n",
              "    }\n",
              "\n",
              "    [theme=dark] .colab-df-convert:hover {\n",
              "      background-color: #434B5C;\n",
              "      box-shadow: 0px 1px 3px 1px rgba(0, 0, 0, 0.15);\n",
              "      filter: drop-shadow(0px 1px 2px rgba(0, 0, 0, 0.3));\n",
              "      fill: #FFFFFF;\n",
              "    }\n",
              "  </style>\n",
              "\n",
              "    <script>\n",
              "      const buttonEl =\n",
              "        document.querySelector('#df-89515b7e-901c-4b1c-b2a6-442002026a88 button.colab-df-convert');\n",
              "      buttonEl.style.display =\n",
              "        google.colab.kernel.accessAllowed ? 'block' : 'none';\n",
              "\n",
              "      async function convertToInteractive(key) {\n",
              "        const element = document.querySelector('#df-89515b7e-901c-4b1c-b2a6-442002026a88');\n",
              "        const dataTable =\n",
              "          await google.colab.kernel.invokeFunction('convertToInteractive',\n",
              "                                                    [key], {});\n",
              "        if (!dataTable) return;\n",
              "\n",
              "        const docLinkHtml = 'Like what you see? Visit the ' +\n",
              "          '<a target=\"_blank\" href=https://colab.research.google.com/notebooks/data_table.ipynb>data table notebook</a>'\n",
              "          + ' to learn more about interactive tables.';\n",
              "        element.innerHTML = '';\n",
              "        dataTable['output_type'] = 'display_data';\n",
              "        await google.colab.output.renderOutput(dataTable, element);\n",
              "        const docLink = document.createElement('div');\n",
              "        docLink.innerHTML = docLinkHtml;\n",
              "        element.appendChild(docLink);\n",
              "      }\n",
              "    </script>\n",
              "  </div>\n",
              "\n",
              "\n",
              "<div id=\"df-1818dd59-4535-404f-8833-763fd0ab08da\">\n",
              "  <button class=\"colab-df-quickchart\" onclick=\"quickchart('df-1818dd59-4535-404f-8833-763fd0ab08da')\"\n",
              "            title=\"Suggest charts\"\n",
              "            style=\"display:none;\">\n",
              "\n",
              "<svg xmlns=\"http://www.w3.org/2000/svg\" height=\"24px\"viewBox=\"0 0 24 24\"\n",
              "     width=\"24px\">\n",
              "    <g>\n",
              "        <path d=\"M19 3H5c-1.1 0-2 .9-2 2v14c0 1.1.9 2 2 2h14c1.1 0 2-.9 2-2V5c0-1.1-.9-2-2-2zM9 17H7v-7h2v7zm4 0h-2V7h2v10zm4 0h-2v-4h2v4z\"/>\n",
              "    </g>\n",
              "</svg>\n",
              "  </button>\n",
              "\n",
              "<style>\n",
              "  .colab-df-quickchart {\n",
              "      --bg-color: #E8F0FE;\n",
              "      --fill-color: #1967D2;\n",
              "      --hover-bg-color: #E2EBFA;\n",
              "      --hover-fill-color: #174EA6;\n",
              "      --disabled-fill-color: #AAA;\n",
              "      --disabled-bg-color: #DDD;\n",
              "  }\n",
              "\n",
              "  [theme=dark] .colab-df-quickchart {\n",
              "      --bg-color: #3B4455;\n",
              "      --fill-color: #D2E3FC;\n",
              "      --hover-bg-color: #434B5C;\n",
              "      --hover-fill-color: #FFFFFF;\n",
              "      --disabled-bg-color: #3B4455;\n",
              "      --disabled-fill-color: #666;\n",
              "  }\n",
              "\n",
              "  .colab-df-quickchart {\n",
              "    background-color: var(--bg-color);\n",
              "    border: none;\n",
              "    border-radius: 50%;\n",
              "    cursor: pointer;\n",
              "    display: none;\n",
              "    fill: var(--fill-color);\n",
              "    height: 32px;\n",
              "    padding: 0;\n",
              "    width: 32px;\n",
              "  }\n",
              "\n",
              "  .colab-df-quickchart:hover {\n",
              "    background-color: var(--hover-bg-color);\n",
              "    box-shadow: 0 1px 2px rgba(60, 64, 67, 0.3), 0 1px 3px 1px rgba(60, 64, 67, 0.15);\n",
              "    fill: var(--button-hover-fill-color);\n",
              "  }\n",
              "\n",
              "  .colab-df-quickchart-complete:disabled,\n",
              "  .colab-df-quickchart-complete:disabled:hover {\n",
              "    background-color: var(--disabled-bg-color);\n",
              "    fill: var(--disabled-fill-color);\n",
              "    box-shadow: none;\n",
              "  }\n",
              "\n",
              "  .colab-df-spinner {\n",
              "    border: 2px solid var(--fill-color);\n",
              "    border-color: transparent;\n",
              "    border-bottom-color: var(--fill-color);\n",
              "    animation:\n",
              "      spin 1s steps(1) infinite;\n",
              "  }\n",
              "\n",
              "  @keyframes spin {\n",
              "    0% {\n",
              "      border-color: transparent;\n",
              "      border-bottom-color: var(--fill-color);\n",
              "      border-left-color: var(--fill-color);\n",
              "    }\n",
              "    20% {\n",
              "      border-color: transparent;\n",
              "      border-left-color: var(--fill-color);\n",
              "      border-top-color: var(--fill-color);\n",
              "    }\n",
              "    30% {\n",
              "      border-color: transparent;\n",
              "      border-left-color: var(--fill-color);\n",
              "      border-top-color: var(--fill-color);\n",
              "      border-right-color: var(--fill-color);\n",
              "    }\n",
              "    40% {\n",
              "      border-color: transparent;\n",
              "      border-right-color: var(--fill-color);\n",
              "      border-top-color: var(--fill-color);\n",
              "    }\n",
              "    60% {\n",
              "      border-color: transparent;\n",
              "      border-right-color: var(--fill-color);\n",
              "    }\n",
              "    80% {\n",
              "      border-color: transparent;\n",
              "      border-right-color: var(--fill-color);\n",
              "      border-bottom-color: var(--fill-color);\n",
              "    }\n",
              "    90% {\n",
              "      border-color: transparent;\n",
              "      border-bottom-color: var(--fill-color);\n",
              "    }\n",
              "  }\n",
              "</style>\n",
              "\n",
              "  <script>\n",
              "    async function quickchart(key) {\n",
              "      const quickchartButtonEl =\n",
              "        document.querySelector('#' + key + ' button');\n",
              "      quickchartButtonEl.disabled = true;  // To prevent multiple clicks.\n",
              "      quickchartButtonEl.classList.add('colab-df-spinner');\n",
              "      try {\n",
              "        const charts = await google.colab.kernel.invokeFunction(\n",
              "            'suggestCharts', [key], {});\n",
              "      } catch (error) {\n",
              "        console.error('Error during call to suggestCharts:', error);\n",
              "      }\n",
              "      quickchartButtonEl.classList.remove('colab-df-spinner');\n",
              "      quickchartButtonEl.classList.add('colab-df-quickchart-complete');\n",
              "    }\n",
              "    (() => {\n",
              "      let quickchartButtonEl =\n",
              "        document.querySelector('#df-1818dd59-4535-404f-8833-763fd0ab08da button');\n",
              "      quickchartButtonEl.style.display =\n",
              "        google.colab.kernel.accessAllowed ? 'block' : 'none';\n",
              "    })();\n",
              "  </script>\n",
              "</div>\n",
              "    </div>\n",
              "  </div>\n"
            ],
            "application/vnd.google.colaboratory.intrinsic+json": {
              "type": "dataframe",
              "variable_name": "df",
              "summary": "{\n  \"name\": \"df\",\n  \"rows\": 5705,\n  \"fields\": [\n    {\n      \"column\": \"Date\",\n      \"properties\": {\n        \"dtype\": \"date\",\n        \"min\": \"2000-01-21 00:00:00\",\n        \"max\": \"2023-06-23 00:00:00\",\n        \"num_unique_values\": 5705,\n        \"samples\": [\n          \"2009-03-17 00:00:00\",\n          \"2004-04-21 00:00:00\",\n          \"2012-09-05 00:00:00\"\n        ],\n        \"semantic_type\": \"\",\n        \"description\": \"\"\n      }\n    },\n    {\n      \"column\": \"Open\",\n      \"properties\": {\n        \"dtype\": \"number\",\n        \"std\": 106.4826888821226,\n        \"min\": 11.126666,\n        \"max\": 454.799988,\n        \"num_unique_values\": 3658,\n        \"samples\": [\n          14.844444,\n          60.416664,\n          18.116667\n        ],\n        \"semantic_type\": \"\",\n        \"description\": \"\"\n      }\n    },\n    {\n      \"column\": \"High\",\n      \"properties\": {\n        \"dtype\": \"number\",\n        \"std\": 107.39700433887123,\n        \"min\": 11.688888,\n        \"max\": 455.899994,\n        \"num_unique_values\": 4035,\n        \"samples\": [\n          361.450012,\n          17.237778,\n          129.600006\n        ],\n        \"semantic_type\": \"\",\n        \"description\": \"\"\n      }\n    },\n    {\n      \"column\": \"Low\",\n      \"properties\": {\n        \"dtype\": \"number\",\n        \"std\": 105.4780930635867,\n        \"min\": 10.884444,\n        \"max\": 452.25,\n        \"num_unique_values\": 4144,\n        \"samples\": [\n          184.800003,\n          118.199997,\n          70.166664\n        ],\n        \"semantic_type\": \"\",\n        \"description\": \"\"\n      }\n    },\n    {\n      \"column\": \"Close\",\n      \"properties\": {\n        \"dtype\": \"number\",\n        \"std\": 106.43411377459681,\n        \"min\": 11.413333,\n        \"max\": 453.600006,\n        \"num_unique_values\": 4581,\n        \"samples\": [\n          234.699997,\n          117.033333,\n          387.600006\n        ],\n        \"semantic_type\": \"\",\n        \"description\": \"\"\n      }\n    },\n    {\n      \"column\": \"Adj Close\",\n      \"properties\": {\n        \"dtype\": \"number\",\n        \"std\": 96.40324582097911,\n        \"min\": 6.906021,\n        \"max\": 453.600006,\n        \"num_unique_values\": 5220,\n        \"samples\": [\n          40.580662,\n          8.913992,\n          82.278648\n        ],\n        \"semantic_type\": \"\",\n        \"description\": \"\"\n      }\n    },\n    {\n      \"column\": \"Volume\",\n      \"properties\": {\n        \"dtype\": \"number\",\n        \"std\": 14564345.523213334,\n        \"min\": 0.0,\n        \"max\": 205652700.0,\n        \"num_unique_values\": 5652,\n        \"samples\": [\n          11093535.0,\n          19232595.0,\n          6463005.0\n        ],\n        \"semantic_type\": \"\",\n        \"description\": \"\"\n      }\n    },\n    {\n      \"column\": \"VWAP\",\n      \"properties\": {\n        \"dtype\": \"string\",\n        \"num_unique_values\": 5489,\n        \"samples\": [\n          \"238.0166627\",\n          \"18.00444367\",\n          \"15.99074067\"\n        ],\n        \"semantic_type\": \"\",\n        \"description\": \"\"\n      }\n    },\n    {\n      \"column\": \"MA\",\n      \"properties\": {\n        \"dtype\": \"number\",\n        \"std\": 105.90612426277896,\n        \"min\": 12.056348714285715,\n        \"max\": 445.86071557142856,\n        \"num_unique_values\": 5689,\n        \"samples\": [\n          218.14047778571427,\n          241.125,\n          248.1857115\n        ],\n        \"semantic_type\": \"\",\n        \"description\": \"\"\n      }\n    },\n    {\n      \"column\": \"RSI\",\n      \"properties\": {\n        \"dtype\": \"number\",\n        \"std\": 16.15972411099357,\n        \"min\": 2.4299121495327256,\n        \"max\": 95.69746315524085,\n        \"num_unique_values\": 5683,\n        \"samples\": [\n          36.830016281316745,\n          76.35747124598223,\n          18.701696284599237\n        ],\n        \"semantic_type\": \"\",\n        \"description\": \"\"\n      }\n    },\n    {\n      \"column\": \"Daily_Returns\",\n      \"properties\": {\n        \"dtype\": \"number\",\n        \"std\": 0.018955172773438916,\n        \"min\": -0.1248654674740668,\n        \"max\": 0.1116172341441024,\n        \"num_unique_values\": 5621,\n        \"samples\": [\n          0.04267621004373745,\n          -0.015579811928423948,\n          0.02373078523330152\n        ],\n        \"semantic_type\": \"\",\n        \"description\": \"\"\n      }\n    },\n    {\n      \"column\": \"Target\",\n      \"properties\": {\n        \"dtype\": \"number\",\n        \"std\": 0,\n        \"min\": 0,\n        \"max\": 1,\n        \"num_unique_values\": 2,\n        \"samples\": [\n          1,\n          0\n        ],\n        \"semantic_type\": \"\",\n        \"description\": \"\"\n      }\n    }\n  ]\n}"
            }
          },
          "metadata": {},
          "execution_count": 7
        }
      ]
    },
    {
      "cell_type": "markdown",
      "source": [
        "Let's visualize the close price as we need to be predicting close price. There is no dicernable pattern other that any old stock chart."
      ],
      "metadata": {
        "id": "93PBPmWzHsl3"
      }
    },
    {
      "source": [
        "from matplotlib import pyplot as plt\n",
        "df['Close'].plot(kind='line', figsize=(8, 4), title='Close')\n",
        "plt.gca().spines[['top', 'right']].set_visible(False)"
      ],
      "cell_type": "code",
      "execution_count": null,
      "outputs": [
        {
          "output_type": "display_data",
          "data": {
            "text/plain": [
              "<Figure size 800x400 with 1 Axes>"
            ],
            "image/png": "[encoded data removed]"
          },
          "metadata": {}
        }
      ],
      "metadata": {
        "colab": {
          "base_uri": "https://localhost:8080/",
          "height": 390
        },
        "id": "bZiOHMgMWMF3",
        "outputId": "53a0317f-cc11-47cc-f99b-f85c1ef92483"
      }
    },
    {
      "cell_type": "markdown",
      "source": [
        "# Feature Scaling\n",
        "\n",
        "Features are scaled using MinMaxScaler. Scaling ensures that all features are on a similar scale, which helps in improving the performance of lstm models."
      ],
      "metadata": {
        "id": "WVGaIf5dAKq0"
      }
    },
    {
      "cell_type": "code",
      "source": [
        "features_to_scale = ['Open', 'High', 'Low', 'Close', 'Volume', 'VWAP', 'MA', 'RSI', 'Daily_Returns']\n",
        "df2 = df.copy()\n",
        "# Scale the features\n",
        "scaler = MinMaxScaler()\n",
        "df[features_to_scale] = scaler.fit_transform(df[features_to_scale])"
      ],
      "metadata": {
        "id": "t1yoaxkGAKS_"
      },
      "execution_count": null,
      "outputs": []
    },
    {
      "cell_type": "markdown",
      "source": [
        "# Creating sequences\n",
        "\n",
        "* Sequences of input features and corresponding target prices are created.\n",
        "* Each sequence contains a window of historical data (input features) along with the target price.\n",
        "* The length of the sequence is a hyperparameter that can be adjusted based on the problem and dataset characteristics."
      ],
      "metadata": {
        "id": "ekHKo8ThAlIn"
      }
    },
    {
      "cell_type": "code",
      "source": [
        "def create_sequences(data, target1, sequence_length):\n",
        "    X = []\n",
        "    y1 = []\n",
        "    for i in range(sequence_length, len(data)):\n",
        "        X.append(data[i-sequence_length:i])\n",
        "        y1.append(target1[i])\n",
        "    return np.array(X), np.array(y1)\n",
        "\n",
        "# Experiment with different sequence lengths\n",
        "sequence_length = 60\n",
        "\n",
        "# Creating sequences\n",
        "X, y_price = create_sequences(df[features_to_scale].values, df['Close'].values, sequence_length)"
      ],
      "metadata": {
        "id": "AMgKAE3uAlmL"
      },
      "execution_count": null,
      "outputs": []
    },
    {
      "cell_type": "markdown",
      "source": [
        "# Train test split\n",
        "\n",
        "The dataset is split into training and testing sets. Typically, a portion of the data (e.g., 80%) is used for training, and the remaining portion is used for testing the model's performance."
      ],
      "metadata": {
        "id": "LAxk2WguI6tY"
      }
    },
    {
      "cell_type": "code",
      "source": [
        "train_size = int(len(X) * 0.8)\n",
        "X_train, X_test = X[:train_size], X[train_size:]\n",
        "y_price_train, y_price_test = y_price[:train_size], y_price[train_size:]"
      ],
      "metadata": {
        "id": "OHdz16sqInA1"
      },
      "execution_count": null,
      "outputs": []
    },
    {
      "cell_type": "markdown",
      "source": [
        "# Converting them into tensors"
      ],
      "metadata": {
        "id": "6UHLWxd3I-yK"
      }
    },
    {
      "cell_type": "code",
      "source": [
        "X_train_tensor = torch.tensor(X_train, dtype=torch.float32)\n",
        "y_price_train_tensor = torch.tensor(y_price_train, dtype=torch.float32)\n",
        "\n",
        "X_test_tensor = torch.tensor(X_test, dtype=torch.float32)\n",
        "y_price_test_tensor = torch.tensor(y_price_test, dtype=torch.float32)"
      ],
      "metadata": {
        "id": "l2obyKu3JAJ-"
      },
      "execution_count": null,
      "outputs": []
    },
    {
      "cell_type": "code",
      "source": [
        "X_train_tensor.shape, y_price_train_tensor.shape"
      ],
      "metadata": {
        "colab": {
          "base_uri": "https://localhost:8080/"
        },
        "id": "pOUWbyAaJC1e",
        "outputId": "1bb8ca6c-97bb-4974-9301-8e1787dc3c21"
      },
      "execution_count": null,
      "outputs": [
        {
          "output_type": "execute_result",
          "data": {
            "text/plain": [
              "(torch.Size([4516, 60, 9]), torch.Size([4516]))"
            ]
          },
          "metadata": {},
          "execution_count": 13
        }
      ]
    },
    {
      "cell_type": "code",
      "source": [
        "X_test_tensor.shape, y_price_test_tensor.shape"
      ],
      "metadata": {
        "colab": {
          "base_uri": "https://localhost:8080/"
        },
        "id": "fMvhzPP8JRe1",
        "outputId": "8c184c82-2c7d-43ac-973a-44880af0aad3"
      },
      "execution_count": null,
      "outputs": [
        {
          "output_type": "execute_result",
          "data": {
            "text/plain": [
              "(torch.Size([1129, 60, 9]), torch.Size([1129]))"
            ]
          },
          "metadata": {},
          "execution_count": 14
        }
      ]
    },
    {
      "cell_type": "markdown",
      "source": [
        "# Create Dataset and Dataloader for training and testing\n",
        "\n",
        "* PyTorch's Dataset and Dataloader classes are used to create iterable objects for the training and testing data.\n",
        "* Dataloaders help in efficiently loading and batching the data during training and evaluation, enabling better utilization of computational resources."
      ],
      "metadata": {
        "id": "XD-zEhPlJdHr"
      }
    },
    {
      "cell_type": "code",
      "source": [
        "train_dataset = data_utils.TensorDataset(X_train_tensor, y_price_train_tensor)\n",
        "train_dataloader = data_utils.DataLoader(train_dataset, batch_size=32, shuffle=True)\n",
        "\n",
        "test_dataset = data_utils.TensorDataset(X_test_tensor, y_price_test_tensor)\n",
        "test_dataloader = data_utils.DataLoader(test_dataset, batch_size=32, shuffle=True)"
      ],
      "metadata": {
        "id": "pa6B9fLIJaqS"
      },
      "execution_count": null,
      "outputs": []
    },
    {
      "cell_type": "markdown",
      "source": [
        "# The model\n",
        "\n",
        "The StockLSTM class defines a Long Short-Term Memory (LSTM) neural network architecture specifically tailored for stock price prediction. It consists of an LSTM layer followed by a dropout layer for regularization, batch normalization layer for stabilizing training, and a linear layer for predicting stock prices. This architecture allows the model to capture temporal dependencies in the input data and make predictions based on historical price sequences."
      ],
      "metadata": {
        "id": "OMUNGjQ4Jor9"
      }
    },
    {
      "cell_type": "code",
      "source": [
        "# Define device\n",
        "device = torch.device('cuda' if torch.cuda.is_available() else 'cpu')\n",
        "\n",
        "class StockLSTM(nn.Module):\n",
        "    def __init__(self, input_size, hidden_size, num_layers, dropout=0.2):\n",
        "        super(StockLSTM, self).__init__()\n",
        "        self.lstm = nn.LSTM(input_size, hidden_size, num_layers, batch_first=True, dropout=dropout)\n",
        "        self.dropout = nn.Dropout(dropout)\n",
        "        self.bn = nn.BatchNorm1d(hidden_size)\n",
        "        self.fc_price = nn.Linear(hidden_size, 1)\n",
        "\n",
        "    def forward(self, x):\n",
        "        h0 = torch.zeros(num_layers, x.size(0), hidden_size).to(x.device)\n",
        "        c0 = torch.zeros(num_layers, x.size(0), hidden_size).to(x.device)\n",
        "\n",
        "        out, _ = self.lstm(x, (h0, c0))\n",
        "        out = self.dropout(out[:, -1, :])  # Apply dropout to the last output\n",
        "        out = self.bn(out)  # Apply batch normalization\n",
        "\n",
        "        price = self.fc_price(out)\n",
        "\n",
        "        return price\n",
        "\n",
        "# Hyperparameters\n",
        "input_size = X.shape[2]  # Number of features\n",
        "hidden_size = 100  # Increased hidden size\n",
        "num_layers = 3  # Increased number of layers\n",
        "num_epochs = 1\n",
        "batch_size = 32\n",
        "learning_rate = 0.01"
      ],
      "metadata": {
        "id": "kbAxrritJprw"
      },
      "execution_count": null,
      "outputs": []
    },
    {
      "cell_type": "markdown",
      "source": [
        "# Initialize model, loss fuction and optimizer\n",
        "\n",
        "Loss function and optimizer are crucial for a Neural Network to train."
      ],
      "metadata": {
        "id": "klHfieHRKIjF"
      }
    },
    {
      "cell_type": "code",
      "source": [
        "model = StockLSTM(input_size, hidden_size, num_layers).to(device)\n",
        "criterion_price = nn.MSELoss()\n",
        "criterion_direction = nn.BCELoss()\n",
        "optimizer = optim.Adam(model.parameters(), lr=learning_rate, weight_decay=0.0001)"
      ],
      "metadata": {
        "id": "GfVfDYQSKLIr"
      },
      "execution_count": null,
      "outputs": []
    },
    {
      "cell_type": "markdown",
      "source": [
        "# Training our model\n",
        "\n",
        "The training process involves iteratively passing batches of input sequences through the model, computing the Mean Squared Error (MSE) loss between predicted and actual prices, and optimizing the model parameters using the Adam optimizer with weight decay. Additionally, gradient clipping is applied to prevent exploding gradients during training."
      ],
      "metadata": {
        "id": "xM_pU9LrKOz6"
      }
    },
    {
      "cell_type": "code",
      "source": [
        "for epoch in range(num_epochs):\n",
        "    for sequences, prices in train_dataloader:\n",
        "        sequences = sequences.to(device)\n",
        "        prices = prices.to(device)\n",
        "\n",
        "        outputs_price = model(sequences)\n",
        "        loss_price = criterion_price(outputs_price.squeeze(), prices)\n",
        "\n",
        "\n",
        "        optimizer.zero_grad()\n",
        "        loss_price.backward()\n",
        "        torch.nn.utils.clip_grad_norm_(model.parameters(), max_norm=1.0)  # Gradient clipping\n",
        "        optimizer.step()\n",
        "\n",
        "\n",
        "    print(f'Epoch [{epoch+1}/{num_epochs}], LossMSE: {loss_price.item():.4f}')"
      ],
      "metadata": {
        "colab": {
          "base_uri": "https://localhost:8080/"
        },
        "id": "REWJGpWkKQGq",
        "outputId": "3abbd801-4ea8-4256-f73d-82b76b2bbfc1"
      },
      "execution_count": null,
      "outputs": [
        {
          "output_type": "stream",
          "name": "stdout",
          "text": [
            "Epoch [1/1], LossMSE: 0.0066\n"
          ]
        }
      ]
    },
    {
      "cell_type": "markdown",
      "source": [
        "# Evaluating our model\n",
        "\n",
        "After training, the model is evaluated on the test dataset to assess its performance using the MSE loss metric. Finally, the actual and predicted prices are plotted for visual inspection, providing insights into the model's predictive capabilities."
      ],
      "metadata": {
        "id": "oTcZZh2LQUMB"
      }
    },
    {
      "cell_type": "code",
      "source": [
        "def evaluate_model(model, criterion_price, test_dataloader):\n",
        "    model.eval()\n",
        "    test_loss = 0.0\n",
        "\n",
        "    with torch.no_grad():\n",
        "        for sequences, prices in test_dataloader:\n",
        "            sequences = sequences.to(device)\n",
        "            prices = prices.to(device)\n",
        "\n",
        "            outputs_price = model(sequences)\n",
        "            loss_price = criterion_price(outputs_price.squeeze(), prices)\n",
        "            test_loss += loss_price.item()\n",
        "\n",
        "    avg_test_loss = test_loss / len(test_dataloader)\n",
        "    print(f'Test Loss: {avg_test_loss:.4f}')\n",
        "    return avg_test_loss\n",
        "\n",
        "def plot_results(model, test_dataloader, num_samples=100):\n",
        "    model.eval()\n",
        "    actual_prices = []\n",
        "    predicted_prices = []\n",
        "\n",
        "    with torch.no_grad():\n",
        "        for sequences, prices in test_dataloader:\n",
        "            sequences = sequences.to(device)\n",
        "            prices = prices.to(device)\n",
        "\n",
        "            outputs_price = model(sequences)\n",
        "            actual_prices.extend(prices.cpu().numpy())\n",
        "            predicted_prices.extend(outputs_price.squeeze().cpu().numpy())\n",
        "\n",
        "    # Plot a subset of the data\n",
        "    actual_prices = actual_prices[:num_samples]\n",
        "    predicted_prices = predicted_prices[:num_samples]\n",
        "\n",
        "    plt.figure(figsize=(10, 5))\n",
        "    plt.plot(actual_prices, label='Actual Prices', color='blue')\n",
        "    plt.plot(predicted_prices, label='Predicted Prices', color='red')\n",
        "    plt.xlabel('Time')\n",
        "    plt.ylabel('Price')\n",
        "    plt.title('Actual vs Predicted Prices')\n",
        "    plt.legend()\n",
        "    plt.show()\n",
        "\n",
        "\n",
        "# Evaluate the model\n",
        "test_loss = evaluate_model(model, criterion_price, test_dataloader)\n",
        "\n",
        "# Plot the results\n",
        "plot_results(model, test_dataloader, num_samples=100)"
      ],
      "metadata": {
        "id": "_kc61HQvQXDi",
        "colab": {
          "base_uri": "https://localhost:8080/",
          "height": 504
        },
        "outputId": "7c0f79c5-d86b-4f8b-9306-d6e6b981ab9a"
      },
      "execution_count": null,
      "outputs": [
        {
          "output_type": "stream",
          "name": "stdout",
          "text": [
            "Test Loss: 0.0047\n"
          ]
        },
        {
          "output_type": "display_data",
          "data": {
            "text/plain": [
              "<Figure size 1000x500 with 1 Axes>"
            ],
            "image/png": "[encoded data removed]"
          },
          "metadata": {}
        }
      ]
    },
    {
      "cell_type": "markdown",
      "source": [
        "As seen below, the average loss comes about to be quite low following the L2 loss function"
      ],
      "metadata": {
        "id": "-23pbWPKJjqi"
      }
    },
    {
      "cell_type": "code",
      "source": [
        "test_loss = evaluate_model(model, criterion_price, test_dataloader)"
      ],
      "metadata": {
        "colab": {
          "base_uri": "https://localhost:8080/"
        },
        "id": "AXXuDTcCQyjC",
        "outputId": "be17befb-b39c-4b68-ee1b-9706a8e8b31f"
      },
      "execution_count": null,
      "outputs": [
        {
          "output_type": "stream",
          "name": "stdout",
          "text": [
            "Test Loss: 0.0047\n"
          ]
        }
      ]
    },
    {
      "cell_type": "markdown",
      "source": [
        "# What else can be done (Future Work)\n",
        "\n",
        "The target column was added to try and predict if the Stock price will be higer or lower than the previous day. Using Classification methods such as NN Classifiers and Random Forest classification, the predictions were atrocious. More work is being done to predict the same"
      ],
      "metadata": {
        "id": "uBbR4clfJ7p4"
      }
    }
  ]
}